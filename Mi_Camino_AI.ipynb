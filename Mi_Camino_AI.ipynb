{
  "nbformat": 4,
  "nbformat_minor": 0,
  "metadata": {
    "colab": {
      "provenance": [],
      "authorship_tag": "ABX9TyNg4lFE/zrTgbHW//vyfBA2",
      "include_colab_link": true
    },
    "kernelspec": {
      "name": "python3",
      "display_name": "Python 3"
    },
    "language_info": {
      "name": "python"
    }
  },
  "cells": [
    {
      "cell_type": "markdown",
      "metadata": {
        "id": "view-in-github",
        "colab_type": "text"
      },
      "source": [
        "<a href=\"https://colab.research.google.com/github/StevsVP/Mi-Camino-IA/blob/main/Mi_Camino_AI.ipynb\" target=\"_parent\"><img src=\"https://colab.research.google.com/assets/colab-badge.svg\" alt=\"Open In Colab\"/></a>"
      ]
    },
    {
      "cell_type": "markdown",
      "source": [
        "# Mi Camino AI\n",
        "## Dia 1 \"Operador %\" - Sabado 23-08-25\n",
        "Para complementarme usare las plataformas: ChatGPT, Gemini, HackerRank, Google Colab, GitGub, entre otras.   \n",
        "Hoy comienza mi estudio serio de Python, para asegurar mi futuro Universitario Y Profesional.\n",
        "\n",
        "Aprendiendo en HackerRank:\n",
        "Luego de hacer print(\"Hello World!\") mi segunda tarea fue evaluar si \"n\" es par o impar.\n",
        "- Tuve mi primer AaaaaH, cuando descubri como funciona % en Phyton.\n",
        "- == es una \"Comparacion de Igualdad\" Izquierda a derecha.\n",
        "- != es \"Distinto de\" True si izquierda no es igual que la derecha\n",
        "- (a +-* b) simple operatorias\n",
        "- // Divide mostrando SOLO la parte entera\n",
        "- / Divide mostrando el numero DECIMAL completo\n",
        "- if es el inicio\n",
        "- elif (sino) si lo anterior fue falso...\n",
        "- else ultima oportunidad\n",
        "\n"
      ],
      "metadata": {
        "id": "UIzg_fh7bKr5"
      }
    },
    {
      "cell_type": "code",
      "execution_count": 2,
      "metadata": {
        "id": "q9z_8Ipsamci",
        "colab": {
          "base_uri": "https://localhost:8080/",
          "height": 228
        },
        "outputId": "a6779896-c62c-4c84-8444-03622d2e32a2"
      },
      "outputs": [
        {
          "output_type": "stream",
          "name": "stdout",
          "text": [
            "Hello, World!\n"
          ]
        },
        {
          "output_type": "error",
          "ename": "NameError",
          "evalue": "name 'n' is not defined",
          "traceback": [
            "\u001b[0;31m---------------------------------------------------------------------------\u001b[0m",
            "\u001b[0;31mNameError\u001b[0m                                 Traceback (most recent call last)",
            "\u001b[0;32m/tmp/ipython-input-1299956131.py\u001b[0m in \u001b[0;36m<cell line: 0>\u001b[0;34m()\u001b[0m\n\u001b[1;32m      3\u001b[0m \u001b[0;34m\u001b[0m\u001b[0m\n\u001b[1;32m      4\u001b[0m \u001b[0;31m#2da Tarea: Par e Impar --- Solo el 0 es \"FALSE\"\u001b[0m\u001b[0;34m\u001b[0m\u001b[0;34m\u001b[0m\u001b[0m\n\u001b[0;32m----> 5\u001b[0;31m \u001b[0;32mif\u001b[0m \u001b[0mn\u001b[0m \u001b[0;34m%\u001b[0m \u001b[0;36m2\u001b[0m \u001b[0;34m!=\u001b[0m \u001b[0;36m0\u001b[0m\u001b[0;34m:\u001b[0m  \u001b[0;31m# impar\u001b[0m\u001b[0;34m\u001b[0m\u001b[0;34m\u001b[0m\u001b[0m\n\u001b[0m\u001b[1;32m      6\u001b[0m     \u001b[0mprint\u001b[0m\u001b[0;34m(\u001b[0m\u001b[0;34m\"Weird\"\u001b[0m\u001b[0;34m)\u001b[0m\u001b[0;34m\u001b[0m\u001b[0;34m\u001b[0m\u001b[0m\n\u001b[1;32m      7\u001b[0m \u001b[0;32melif\u001b[0m \u001b[0mn\u001b[0m \u001b[0;34m%\u001b[0m \u001b[0;36m2\u001b[0m \u001b[0;34m==\u001b[0m \u001b[0;36m0\u001b[0m \u001b[0;32mand\u001b[0m \u001b[0;36m2\u001b[0m \u001b[0;34m<=\u001b[0m \u001b[0mn\u001b[0m \u001b[0;34m<=\u001b[0m \u001b[0;36m5\u001b[0m\u001b[0;34m:\u001b[0m  \u001b[0;31m# par y entre 2 y 5\u001b[0m\u001b[0;34m\u001b[0m\u001b[0;34m\u001b[0m\u001b[0m\n",
            "\u001b[0;31mNameError\u001b[0m: name 'n' is not defined"
          ]
        }
      ],
      "source": [
        "# Dia 1 en HackerRank: Aqui mostrare los comandos que aprendo.\n",
        "print(\"Hello, World!\")\n",
        "\n",
        "#2da Tarea: Par e Impar\n",
        "if n % 2 != 0:  # impar\n",
        "    print(\"Weird\")\n",
        "elif n % 2 == 0 and 2 <= n <= 5:  # par y entre 2 y 5\n",
        "    print(\"Not Weird\")\n",
        "elif n % 2 == 0 and 6 <= n <= 20:  # par y entre 6 y 20\n",
        "    print(\"Weird\")\n",
        "elif n % 2 == 0 and n > 20:  # par y mayor que 20\n",
        "    print(\"Not Weird\")\n",
        "\n",
        "#3ra Tarea: Sumas, restas y multiplicacion\n",
        "print(a + b)\n",
        "print(a - b)\n",
        "print(a * b)\n",
        "\n",
        "#4ta Tarea: Divisiones\n",
        "print(a // b)\n",
        "print(a / b)"
      ]
    },
    {
      "cell_type": "markdown",
      "source": [],
      "metadata": {
        "id": "V4SnWczu97s3"
      }
    },
    {
      "cell_type": "markdown",
      "source": [
        "### Dia 2 \"Trapped in the LOOP\" - Saturday 30-08-25\n",
        "###Since today, all writed here is in english, sorry if I make mistakes.\n",
        "\n",
        "Today I learned:\n",
        "-Ranges and Powers\n",
        "-Return and if, elif, else, I didn't get at all how it works.  \n",
        "\n"
      ],
      "metadata": {
        "id": "KgGp88EQ9_1M"
      }
    },
    {
      "cell_type": "code",
      "source": [
        "#DIA 2: Concistency kills everything.\n",
        "#Task 4 \"Powers\"\n",
        "for i in range(n):\n",
        "    print(i**2)\n",
        "\n",
        "#Task 5: \"Return\" diferent of \"Print\"\n",
        " if year % 400 == 0:\n",
        "        return True\n",
        "    elif year % 100 == 0:\n",
        "        return False\n",
        "    elif year % 4 == 0:\n",
        "        return True\n"
      ],
      "metadata": {
        "id": "Vub4icETCqCh"
      },
      "execution_count": null,
      "outputs": []
    }
  ]
}