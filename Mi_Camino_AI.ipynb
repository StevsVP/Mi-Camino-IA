{
  "nbformat": 4,
  "nbformat_minor": 0,
  "metadata": {
    "colab": {
      "provenance": [],
      "authorship_tag": "ABX9TyOkAkGnU1WDzqfvxLoZlIgl",
      "include_colab_link": true
    },
    "kernelspec": {
      "name": "python3",
      "display_name": "Python 3"
    },
    "language_info": {
      "name": "python"
    }
  },
  "cells": [
    {
      "cell_type": "markdown",
      "metadata": {
        "id": "view-in-github",
        "colab_type": "text"
      },
      "source": [
        "<a href=\"https://colab.research.google.com/github/StevsVP/Mi-Camino-IA/blob/main/Mi_Camino_AI.ipynb\" target=\"_parent\"><img src=\"https://colab.research.google.com/assets/colab-badge.svg\" alt=\"Open In Colab\"/></a>"
      ]
    },
    {
      "cell_type": "markdown",
      "source": [
        "# Mi Camino AI\n",
        "## Dia 1 \"Operador %\" - Sabado 23-08-25\n",
        "Para complementarme usare las plataformas: ChatGPT, Gemini, HackerRank, Google Colab, GitGub, entre otras.   \n",
        "Hoy comienza mi estudio serio de Python, para asegurar mi futuro Universitario Y Profesional.\n",
        "\n",
        "Aprendiendo en HackerRank:\n",
        "Luego de hacer print(\"Hello World!\") mi segunda tarea fue evaluar si \"n\" es par o impar.\n",
        "- Tuve mi primer AaaaaH, cuando descubri como funciona % en Phyton.\n",
        "- == es una \"Comparacion de Igualdad\" Izquierda a derecha.\n",
        "- != es \"Distinto de\" True si izquierda no es igual que la derecha\n",
        "- (a +-* b) simple operatorias\n",
        "- // Divide mostrando SOLO la parte entera\n",
        "- / Divide mostrando el numero DECIMAL completo\n",
        "\n",
        "\n"
      ],
      "metadata": {
        "id": "UIzg_fh7bKr5"
      }
    },
    {
      "cell_type": "code",
      "execution_count": null,
      "metadata": {
        "id": "q9z_8Ipsamci"
      },
      "outputs": [],
      "source": [
        "# Dia 1 en HackerRank: Aqui mostrare los comandos que aprendo.\n",
        "print(\"Hello, World!\")\n",
        "\n",
        "#2da Tarea: Par e Impar\n",
        "if n % 2 != 0:  # impar\n",
        "    print(\"Weird\")\n",
        "elif n % 2 == 0 and 2 <= n <= 5:  # par y entre 2 y 5\n",
        "    print(\"Not Weird\")\n",
        "elif n % 2 == 0 and 6 <= n <= 20:  # par y entre 6 y 20\n",
        "    print(\"Weird\")\n",
        "elif n % 2 == 0 and n > 20:  # par y mayor que 20\n",
        "    print(\"Not Weird\")\n",
        "\n",
        "#3ra Tarea: Sumas, restas y multiplicacion\n",
        "print(a + b)\n",
        "print(a - b)\n",
        "print(a * b)\n",
        "\n",
        "#4ta Tarea: Divisiones\n",
        "print(a // b)\n",
        "print(a / b)"
      ]
    }
  ]
}